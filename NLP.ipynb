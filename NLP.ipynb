{
 "cells": [
  {
   "cell_type": "code",
   "execution_count": 1,
   "metadata": {
    "collapsed": false
   },
   "outputs": [],
   "source": [
    "import nltk\n",
    "import numpy as np\n",
    "import pickle\n",
    "import pandas as pd\n",
    "import json"
   ]
  },
  {
   "cell_type": "code",
   "execution_count": null,
   "metadata": {
    "collapsed": false
   },
   "outputs": [],
   "source": [
    "## must download vader_lexicon for vader sentiment algorithm\n",
    "nltk.download_shell()"
   ]
  },
  {
   "cell_type": "markdown",
   "metadata": {},
   "source": [
    "# Data Loading"
   ]
  },
  {
   "cell_type": "markdown",
   "metadata": {},
   "source": [
    "### Load clean, processed data"
   ]
  },
  {
   "cell_type": "code",
   "execution_count": 17,
   "metadata": {
    "collapsed": false
   },
   "outputs": [],
   "source": [
    "df = pd.read_pickle(\"df3\")"
   ]
  },
  {
   "cell_type": "code",
   "execution_count": 18,
   "metadata": {
    "collapsed": false
   },
   "outputs": [
    {
     "data": {
      "text/plain": [
       "(111009, 10)"
      ]
     },
     "execution_count": 18,
     "metadata": {},
     "output_type": "execute_result"
    }
   ],
   "source": [
    "df.shape"
   ]
  },
  {
   "cell_type": "code",
   "execution_count": 19,
   "metadata": {
    "collapsed": false
   },
   "outputs": [],
   "source": [
    "## array of strings, 1 x n \n",
    "descriptions = df[\"description\"].tolist()\n",
    "\n",
    "## array of ints, 1 x n\n",
    "prices = df[\"price\"].tolist()\n",
    "\n",
    "## array of ints, 1 x n\n",
    "points = df[\"points\"].tolist()"
   ]
  },
  {
   "cell_type": "markdown",
   "metadata": {},
   "source": [
    "# Sentiment Analysis Feature Transformation"
   ]
  },
  {
   "cell_type": "markdown",
   "metadata": {},
   "source": [
    "### Sentiment analysis algorithms. Each takes a single string as input."
   ]
  },
  {
   "cell_type": "code",
   "execution_count": 15,
   "metadata": {
    "collapsed": false
   },
   "outputs": [],
   "source": [
    "def createDict():\n",
    "    sentiment_dictionary = {}\n",
    "    for line in open('afinn_dict.txt'):\n",
    "        word,score = line.split('\\t')\n",
    "        sentiment_dictionary[word] = int(score)\n",
    "    return sentiment_dictionary\n",
    "sentiment_dictionary = createDict()\n",
    "\n",
    "def sentimentAfinn(sentence):\n",
    "    '''\n",
    "    AFINN is a dictionary of polarity scores [-5,5] by word.\n",
    "    This algorithm sums the scores for each word in the sentence, then\n",
    "    classifies the entire sentence based on the sum's sign.\n",
    "    '''\n",
    "    sentence_tokens = sentence.split(' ')\n",
    "    score = 0\n",
    "    for token in sentence_tokens:\n",
    "        score += sentiment_dictionary.get(token,0)\n",
    "    ## if we want raw integer, not scaled\n",
    "    return score\n",
    "    ## if we want it to be scaled between -1 and 1\n",
    "    # return np.sign(score)"
   ]
  },
  {
   "cell_type": "code",
   "execution_count": 16,
   "metadata": {
    "collapsed": false
   },
   "outputs": [
    {
     "name": "stderr",
     "output_type": "stream",
     "text": [
      "C:\\Users\\Liane_2\\Anaconda3\\lib\\site-packages\\nltk\\twitter\\__init__.py:20: UserWarning: The twython library has not been installed. Some functionality from the twitter package will not be available.\n",
      "  warnings.warn(\"The twython library has not been installed. \"\n"
     ]
    }
   ],
   "source": [
    "from nltk.sentiment.vader import SentimentIntensityAnalyzer\n",
    "sentim_int_analyzer = SentimentIntensityAnalyzer()\n",
    "def sentimentVader(sentence):    \n",
    "    '''\n",
    "    Sentiment object contains { 'pos', 'neg', 'neu', 'compound' } where pos+neg+neu=1, compound is [-1,1].\n",
    "    This algorithm returns the 'pos', 'neu', 'neg' values\n",
    "    '''\n",
    "    ss = sentim_int_analyzer.polarity_scores(sentence)\n",
    "    return [ss['pos'], ss['neu'], ss['neg']]"
   ]
  },
  {
   "cell_type": "code",
   "execution_count": null,
   "metadata": {
    "collapsed": false
   },
   "outputs": [],
   "source": [
    "# delete later\n",
    "sentimentAfinn(\"This wine is so bad it made me vomit.\")"
   ]
  },
  {
   "cell_type": "code",
   "execution_count": null,
   "metadata": {
    "collapsed": false
   },
   "outputs": [],
   "source": [
    "# delete later\n",
    "sentimentVader(\"This wine is so bad it made me vomit.\")"
   ]
  },
  {
   "cell_type": "markdown",
   "metadata": {},
   "source": [
    "### Create sentiment feature vectors."
   ]
  },
  {
   "cell_type": "code",
   "execution_count": 20,
   "metadata": {
    "collapsed": false
   },
   "outputs": [],
   "source": [
    "sentiments_afinn = list(map(sentimentAfinn,descriptions))"
   ]
  },
  {
   "cell_type": "code",
   "execution_count": 21,
   "metadata": {
    "collapsed": true
   },
   "outputs": [],
   "source": [
    "sentiments_vader = list(map(sentimentVader,descriptions))"
   ]
  },
  {
   "cell_type": "code",
   "execution_count": 22,
   "metadata": {
    "collapsed": false
   },
   "outputs": [
    {
     "name": "stdout",
     "output_type": "stream",
     "text": [
      "[5, 3, 0, 2, 4, 1, 5, 0]\n",
      "111009\n"
     ]
    }
   ],
   "source": [
    "# delete later\n",
    "print(sentiments_afinn[0:8])\n",
    "print(len(sentiments_afinn))"
   ]
  },
  {
   "cell_type": "code",
   "execution_count": 23,
   "metadata": {
    "collapsed": false
   },
   "outputs": [
    {
     "name": "stdout",
     "output_type": "stream",
     "text": [
      "[[0.232, 0.768, 0.0], [0.135, 0.865, 0.0], [0.142, 0.858, 0.0], [0.03, 0.97, 0.0], [0.11, 0.89, 0.0], [0.076, 0.924, 0.0], [0.177, 0.823, 0.0], [0.07, 0.93, 0.0]]\n",
      "111009\n"
     ]
    }
   ],
   "source": [
    "# delete later\n",
    "print(sentiments_vader[0:8])\n",
    "print(len(sentiments_vader))"
   ]
  },
  {
   "cell_type": "markdown",
   "metadata": {},
   "source": [
    "### Saving the transformed feature vectors to file."
   ]
  },
  {
   "cell_type": "code",
   "execution_count": 24,
   "metadata": {
    "collapsed": false
   },
   "outputs": [],
   "source": [
    "with open('sentiment_sums.json', 'w') as outfile:\n",
    "    json.dump(sentiments_afinn, outfile)"
   ]
  },
  {
   "cell_type": "code",
   "execution_count": 25,
   "metadata": {
    "collapsed": true
   },
   "outputs": [],
   "source": [
    "with open('sentiment_probabilities.json', 'w') as outfile:\n",
    "    json.dump(sentiments_vader, outfile)"
   ]
  },
  {
   "cell_type": "code",
   "execution_count": 43,
   "metadata": {
    "collapsed": false
   },
   "outputs": [],
   "source": [
    "negs = sentiment_probs[:,1].tolist()"
   ]
  },
  {
   "cell_type": "code",
   "execution_count": 44,
   "metadata": {
    "collapsed": false
   },
   "outputs": [
    {
     "name": "stdout",
     "output_type": "stream",
     "text": [
      "111009\n"
     ]
    }
   ],
   "source": [
    "print(len(negs))"
   ]
  },
  {
   "cell_type": "code",
   "execution_count": 46,
   "metadata": {
    "collapsed": false
   },
   "outputs": [],
   "source": [
    "with open('sentiment_probabilities_negative.json', 'w') as outfile:\n",
    "    json.dump(negs, outfile)"
   ]
  },
  {
   "cell_type": "markdown",
   "metadata": {},
   "source": [
    "### Graphical analysis."
   ]
  },
  {
   "cell_type": "code",
   "execution_count": 5,
   "metadata": {
    "collapsed": true
   },
   "outputs": [],
   "source": [
    "import matplotlib.pyplot as plt"
   ]
  },
  {
   "cell_type": "code",
   "execution_count": 6,
   "metadata": {
    "collapsed": false
   },
   "outputs": [],
   "source": [
    "with open('sentiment_sums.json') as json_data:\n",
    "    sentiment_sums = json.load(json_data)"
   ]
  },
  {
   "cell_type": "code",
   "execution_count": 41,
   "metadata": {
    "collapsed": false
   },
   "outputs": [],
   "source": [
    "with open('sentiment_probabilities.json') as json_data:\n",
    "    sentiment_probs = json.load(json_data)"
   ]
  },
  {
   "cell_type": "code",
   "execution_count": 42,
   "metadata": {
    "collapsed": false
   },
   "outputs": [],
   "source": [
    "sentiment_probs = np.matrix(sentiment_probs)"
   ]
  },
  {
   "cell_type": "code",
   "execution_count": null,
   "metadata": {
    "collapsed": false
   },
   "outputs": [],
   "source": [
    "# plotting sentiment sums against points\n",
    "plt.plot(sentiment_sums, points, 'ro')\n",
    "plt.show()"
   ]
  },
  {
   "cell_type": "code",
   "execution_count": null,
   "metadata": {
    "collapsed": false
   },
   "outputs": [],
   "source": [
    "# plotting sentiment sums against prices\n",
    "plt.plot(sentiment_sums, prices, 'ro')\n",
    "plt.show()"
   ]
  },
  {
   "cell_type": "code",
   "execution_count": null,
   "metadata": {
    "collapsed": false
   },
   "outputs": [],
   "source": [
    "# plotting positive probabilities against points\n",
    "plt.plot(sentiment_probs[:,0], points, 'ro')\n",
    "plt.show()"
   ]
  },
  {
   "cell_type": "code",
   "execution_count": null,
   "metadata": {
    "collapsed": false
   },
   "outputs": [],
   "source": [
    "# plotting positive probabilities against price\n",
    "plt.plot(sentiment_probs[:,0], prices, 'ro')\n",
    "plt.show()"
   ]
  },
  {
   "cell_type": "code",
   "execution_count": null,
   "metadata": {
    "collapsed": false
   },
   "outputs": [],
   "source": [
    "# plotting neutral probabilities against points\n",
    "plt.plot(sentiment_probs[:,1], points, 'ro')\n",
    "plt.show()"
   ]
  },
  {
   "cell_type": "code",
   "execution_count": null,
   "metadata": {
    "collapsed": false
   },
   "outputs": [],
   "source": [
    "# plotting neutral probabilities against prices\n",
    "plt.plot(sentiment_probs[:,1], prices, 'ro')\n",
    "plt.show()"
   ]
  },
  {
   "cell_type": "code",
   "execution_count": 13,
   "metadata": {
    "collapsed": false
   },
   "outputs": [
    {
     "data": {
      "image/png": "[encoded data removed]",
      "text/plain": [
       "<matplotlib.figure.Figure at 0x9c1fb1b00>"
      ]
     },
     "metadata": {},
     "output_type": "display_data"
    }
   ],
   "source": [
    "# plotting negative probabilities against points\n",
    "plt.plot(sentiment_probs[:,2], points, 'ro')\n",
    "plt.xlabel('probability that description has negative sentiment')\n",
    "plt.ylabel('points')\n",
    "plt.show()"
   ]
  },
  {
   "cell_type": "code",
   "execution_count": 14,
   "metadata": {
    "collapsed": false
   },
   "outputs": [
    {
     "data": {
      "image/png": "[encoded data removed]",
      "text/plain": [
       "<matplotlib.figure.Figure at 0x9c1ffee48>"
      ]
     },
     "metadata": {},
     "output_type": "display_data"
    }
   ],
   "source": [
    "# plotting negative probabilities against price\n",
    "plt.plot(sentiment_probs[:,2], prices, 'ro')\n",
    "plt.xlabel('probability that description has negative sentiment')\n",
    "plt.ylabel('price')\n",
    "plt.show()"
   ]
  },
  {
   "cell_type": "markdown",
   "metadata": {},
   "source": [
    "# Neural Network"
   ]
  },
  {
   "cell_type": "code",
   "execution_count": 28,
   "metadata": {
    "collapsed": false
   },
   "outputs": [
    {
     "name": "stderr",
     "output_type": "stream",
     "text": [
      "C:\\Users\\Liane_2\\Anaconda3\\lib\\site-packages\\gensim\\utils.py:865: UserWarning: detected Windows; aliasing chunkize to chunkize_serial\n",
      "  warnings.warn(\"detected Windows; aliasing chunkize to chunkize_serial\")\n"
     ]
    }
   ],
   "source": [
    "import numpy as np\n",
    "import gensim\n",
    "import nltk\n",
    "import string\n",
    "# from textblob import Word"
   ]
  },
  {
   "cell_type": "code",
   "execution_count": 5,
   "metadata": {
    "collapsed": false
   },
   "outputs": [
    {
     "name": "stdout",
     "output_type": "stream",
     "text": [
      "NLTK Downloader\n",
      "---------------------------------------------------------------------------\n",
      "    d) Download   l) List    u) Update   c) Config   h) Help   q) Quit\n",
      "---------------------------------------------------------------------------\n",
      "Downloader> corpora/stopwords\n",
      "Command 'corpora/stopwords' unrecognized\n",
      "\n",
      "---------------------------------------------------------------------------\n",
      "    d) Download   l) List    u) Update   c) Config   h) Help   q) Quit\n",
      "---------------------------------------------------------------------------\n",
      "Downloader> corpora\n",
      "Command 'corpora' unrecognized\n",
      "\n",
      "---------------------------------------------------------------------------\n",
      "    d) Download   l) List    u) Update   c) Config   h) Help   q) Quit\n",
      "---------------------------------------------------------------------------\n",
      "Downloader> l\n",
      "\n",
      "Packages:\n",
      "  [ ] abc................. Australian Broadcasting Commission 2006\n",
      "  [ ] alpino.............. Alpino Dutch Treebank\n",
      "  [*] averaged_perceptron_tagger Averaged Perceptron Tagger\n",
      "  [ ] averaged_perceptron_tagger_ru Averaged Perceptron Tagger (Russian)\n",
      "  [ ] basque_grammars..... Grammars for Basque\n",
      "  [ ] biocreative_ppi..... BioCreAtIvE (Critical Assessment of Information\n",
      "                           Extraction Systems in Biology)\n",
      "  [ ] bllip_wsj_no_aux.... BLLIP Parser: WSJ Model\n",
      "  [ ] book_grammars....... Grammars from NLTK Book\n",
      "  [ ] brown............... Brown Corpus\n",
      "  [ ] brown_tei........... Brown Corpus (TEI XML Version)\n",
      "  [ ] cess_cat............ CESS-CAT Treebank\n",
      "  [ ] cess_esp............ CESS-ESP Treebank\n",
      "  [ ] chat80.............. Chat-80 Data Files\n",
      "  [ ] city_database....... City Database\n",
      "  [ ] cmudict............. The Carnegie Mellon Pronouncing Dictionary (0.6)\n",
      "  [ ] comparative_sentences Comparative Sentence Dataset\n",
      "  [ ] comtrans............ ComTrans Corpus Sample\n",
      "  [ ] conll2000........... CONLL 2000 Chunking Corpus\n",
      "  [ ] conll2002........... CONLL 2002 Named Entity Recognition Corpus\n",
      "Hit Enter to continue: \n",
      "  [ ] conll2007........... Dependency Treebanks from CoNLL 2007 (Catalan\n",
      "                           and Basque Subset)\n",
      "  [ ] crubadan............ Crubadan Corpus\n",
      "  [ ] dependency_treebank. Dependency Parsed Treebank\n",
      "  [ ] dolch............... Dolch Word List\n",
      "  [ ] europarl_raw........ Sample European Parliament Proceedings Parallel\n",
      "                           Corpus\n",
      "  [ ] floresta............ Portuguese Treebank\n",
      "  [ ] framenet_v15........ FrameNet 1.5\n",
      "  [ ] framenet_v17........ FrameNet 1.7\n",
      "  [ ] gazetteers.......... Gazeteer Lists\n",
      "  [ ] genesis............. Genesis Corpus\n",
      "  [ ] gutenberg........... Project Gutenberg Selections\n",
      "  [ ] hmm_treebank_pos_tagger Treebank Part of Speech Tagger (HMM)\n",
      "  [ ] ieer................ NIST IE-ER DATA SAMPLE\n",
      "  [ ] inaugural........... C-Span Inaugural Address Corpus\n",
      "  [ ] indian.............. Indian Language POS-Tagged Corpus\n",
      "  [ ] jeita............... JEITA Public Morphologically Tagged Corpus (in\n",
      "                           ChaSen format)\n",
      "  [ ] kimmo............... PC-KIMMO Data Files\n",
      "  [ ] knbc................ KNB Corpus (Annotated blog corpus)\n",
      "Hit Enter to continue: \n",
      "  [ ] large_grammars...... Large context-free and feature-based grammars\n",
      "                           for parser comparison\n",
      "  [ ] lin_thesaurus....... Lin's Dependency Thesaurus\n",
      "  [ ] mac_morpho.......... MAC-MORPHO: Brazilian Portuguese news text with\n",
      "                           part-of-speech tags\n",
      "  [ ] machado............. Machado de Assis -- Obra Completa\n",
      "  [ ] masc_tagged......... MASC Tagged Corpus\n",
      "  [ ] maxent_ne_chunker... ACE Named Entity Chunker (Maximum entropy)\n",
      "  [ ] maxent_treebank_pos_tagger Treebank Part of Speech Tagger (Maximum entropy)\n",
      "  [ ] moses_sample........ Moses Sample Models\n",
      "  [ ] movie_reviews....... Sentiment Polarity Dataset Version 2.0\n",
      "  [ ] mte_teip5........... MULTEXT-East 1984 annotated corpus 4.0\n",
      "  [ ] mwa_ppdb............ The monolingual word aligner (Sultan et al.\n",
      "                           2015) subset of the Paraphrase Database.\n",
      "  [ ] names............... Names Corpus, Version 1.3 (1994-03-29)\n",
      "  [ ] nombank.1.0......... NomBank Corpus 1.0\n",
      "  [ ] nonbreaking_prefixes Non-Breaking Prefixes (Moses Decoder)\n",
      "  [ ] nps_chat............ NPS Chat\n",
      "  [ ] omw................. Open Multilingual Wordnet\n",
      "  [ ] opinion_lexicon..... Opinion Lexicon\n",
      "  [ ] panlex_swadesh...... PanLex Swadesh Corpora\n",
      "Hit Enter to continue: \n",
      "  [ ] paradigms........... Paradigm Corpus\n",
      "  [ ] pe08................ Cross-Framework and Cross-Domain Parser\n",
      "                           Evaluation Shared Task\n",
      "  [ ] perluniprops........ perluniprops: Index of Unicode Version 7.0.0\n",
      "                           character properties in Perl\n",
      "  [ ] pil................. The Patient Information Leaflet (PIL) Corpus\n",
      "  [ ] pl196x.............. Polish language of the XX century sixties\n",
      "  [ ] porter_test......... Porter Stemmer Test Files\n",
      "  [ ] ppattach............ Prepositional Phrase Attachment Corpus\n",
      "  [ ] problem_reports..... Problem Report Corpus\n",
      "  [ ] product_reviews_1... Product Reviews (5 Products)\n",
      "  [ ] product_reviews_2... Product Reviews (9 Products)\n",
      "  [ ] propbank............ Proposition Bank Corpus 1.0\n",
      "  [ ] pros_cons........... Pros and Cons\n",
      "  [ ] ptb................. Penn Treebank\n",
      "  [*] punkt............... Punkt Tokenizer Models\n",
      "  [ ] qc.................. Experimental Data for Question Classification\n",
      "  [ ] reuters............. The Reuters-21578 benchmark corpus, ApteMod\n",
      "                           version\n",
      "  [ ] rslp................ RSLP Stemmer (Removedor de Sufixos da Lingua\n",
      "                           Portuguesa)\n",
      "Hit Enter to continue: \n",
      "  [ ] rte................. PASCAL RTE Challenges 1, 2, and 3\n",
      "  [ ] sample_grammars..... Sample Grammars\n",
      "  [ ] semcor.............. SemCor 3.0\n",
      "  [ ] senseval............ SENSEVAL 2 Corpus: Sense Tagged Text\n",
      "  [ ] sentence_polarity... Sentence Polarity Dataset v1.0\n",
      "  [ ] sentiwordnet........ SentiWordNet\n",
      "  [ ] shakespeare......... Shakespeare XML Corpus Sample\n",
      "  [ ] sinica_treebank..... Sinica Treebank Corpus Sample\n",
      "  [ ] smultron............ SMULTRON Corpus Sample\n",
      "  [ ] snowball_data....... Snowball Data\n",
      "  [ ] spanish_grammars.... Grammars for Spanish\n",
      "  [ ] state_union......... C-Span State of the Union Address Corpus\n",
      "  [ ] stopwords........... Stopwords Corpus\n",
      "  [ ] subjectivity........ Subjectivity Dataset v1.0\n",
      "  [ ] swadesh............. Swadesh Wordlists\n",
      "  [ ] switchboard......... Switchboard Corpus Sample\n",
      "  [ ] tagsets............. Help on Tagsets\n",
      "  [ ] timit............... TIMIT Corpus Sample\n",
      "  [ ] toolbox............. Toolbox Sample Files\n",
      "  [ ] treebank............ Penn Treebank Sample\n",
      "  [ ] twitter_samples..... Twitter Samples\n",
      "Hit Enter to continue: stopwords\n",
      "  [ ] udhr2............... Universal Declaration of Human Rights Corpus\n",
      "                           (Unicode Version)\n",
      "  [ ] udhr................ Universal Declaration of Human Rights Corpus\n",
      "  [ ] unicode_samples..... Unicode Samples\n",
      "  [ ] universal_tagset.... Mappings to the Universal Part-of-Speech Tagset\n",
      "  [ ] universal_treebanks_v20 Universal Treebanks Version 2.0\n",
      "  [*] vader_lexicon....... VADER Sentiment Lexicon\n",
      "  [ ] verbnet............. VerbNet Lexicon, Version 2.1\n",
      "  [ ] webtext............. Web Text Corpus\n",
      "  [ ] wmt15_eval.......... Evaluation data from WMT15\n",
      "  [ ] word2vec_sample..... Word2Vec Sample\n",
      "  [ ] wordnet............. WordNet\n",
      "  [ ] wordnet_ic.......... WordNet-InfoContent\n",
      "  [ ] words............... Word Lists\n",
      "  [ ] ycoe................ York-Toronto-Helsinki Parsed Corpus of Old\n",
      "                           English Prose\n",
      "\n",
      "Collections:\n",
      "  [ ] all-corpora......... All the corpora\n",
      "  [P] all-nltk............ All packages available on nltk_data gh-pages\n",
      "                           branch\n",
      "  [P] all................. All packages\n",
      "Hit Enter to continue: \n",
      "  [P] book................ Everything used in the NLTK Book\n",
      "  [P] popular............. Popular packages\n",
      "  [ ] third-party......... Third-party data packages\n",
      "\n",
      "([*] marks installed packages; [P] marks partially installed collections)\n",
      "\n",
      "---------------------------------------------------------------------------\n",
      "    d) Download   l) List    u) Update   c) Config   h) Help   q) Quit\n",
      "---------------------------------------------------------------------------\n",
      "Downloader> stopwords\n",
      "Command 'stopwords' unrecognized\n",
      "\n",
      "---------------------------------------------------------------------------\n",
      "    d) Download   l) List    u) Update   c) Config   h) Help   q) Quit\n",
      "---------------------------------------------------------------------------\n",
      "Downloader> d\n",
      "\n",
      "Download which package (l=list; x=cancel)?\n",
      "  Identifier> stopwords\n",
      "    Downloading package stopwords to\n",
      "        C:\\Users\\Liane_2\\AppData\\Roaming\\nltk_data...\n",
      "      Unzipping corpora\\stopwords.zip.\n",
      "\n",
      "---------------------------------------------------------------------------\n",
      "    d) Download   l) List    u) Update   c) Config   h) Help   q) Quit\n",
      "---------------------------------------------------------------------------\n",
      "Downloader> q\n"
     ]
    }
   ],
   "source": [
    "## must download stopwords for word embeddings\n",
    "nltk.download_shell()"
   ]
  },
  {
   "cell_type": "code",
   "execution_count": 47,
   "metadata": {
    "collapsed": true
   },
   "outputs": [],
   "source": [
    "MAX_SEQUENCE_LENGTH = 20\n",
    "embedding_depth = 300"
   ]
  },
  {
   "cell_type": "markdown",
   "metadata": {
    "collapsed": true
   },
   "source": [
    "### Word Embedding"
   ]
  },
  {
   "cell_type": "code",
   "execution_count": 29,
   "metadata": {
    "collapsed": false
   },
   "outputs": [],
   "source": [
    "stopwords = nltk.corpus.stopwords.words('english')\n",
    "stopwords.extend(string.punctuation)\n",
    "stopwords.append('')\n",
    "stopwords.remove('not')\n",
    "stopwords.remove('no')"
   ]
  },
  {
   "cell_type": "code",
   "execution_count": 30,
   "metadata": {
    "collapsed": true
   },
   "outputs": [],
   "source": [
    "tokenizer = nltk.tokenize.WhitespaceTokenizer()"
   ]
  },
  {
   "cell_type": "code",
   "execution_count": 31,
   "metadata": {
    "collapsed": false
   },
   "outputs": [],
   "source": [
    "embedding_dict = gensim.models.KeyedVectors.load_word2vec_format('GoogleNews-vectors-negative300.bin', binary=True)"
   ]
  },
  {
   "cell_type": "code",
   "execution_count": 10,
   "metadata": {
    "collapsed": true
   },
   "outputs": [],
   "source": [
    "def sentence_to_tokens(s):\n",
    "    return [token.lower().strip(string.punctuation) for token in tokenizer.tokenize(s)]\n",
    "\n",
    "def word_to_vec(word):\n",
    "    try:\n",
    "        return embedding_dict[word]\n",
    "    except:\n",
    "        return np.zeros(300, dtype=float)\n",
    "    \n"
   ]
  },
  {
   "cell_type": "code",
   "execution_count": null,
   "metadata": {
    "collapsed": true
   },
   "outputs": [],
   "source": [
    "# Function to generate a list of word vectors padded to be fixed length\n",
    "def sentenceToArray(s, max_seq_length,word_vecs):\n",
    "    z = np.zeros([300,])\n",
    "    ary = []\n",
    "    sentence_tokens = sentence2tokens(s)\n",
    "    for token in sentence_tokens:\n",
    "        wv = word2vecVocab(token,word_vecs)\n",
    "        ary.append(wv)\n",
    "    padding = max_seq_length - len(ary)\n",
    "    if padding >= 0:\n",
    "        for i in range(0,padding):\n",
    "            ary.append(z)\n",
    "    else:\n",
    "        ary = ary[:max_seq_length]\n",
    "    return np.array(ary)\n",
    "\n",
    "#Function to map sentence to a muliti-hot vocab vector\n",
    "def sentenceToVocabVec(s,word2index):\n",
    "    vec = np.zeros([len(word2index),])\n",
    "    sentence_tokens = sentence2tokens(s)\n",
    "    for token in sentence_tokens:\n",
    "        index = word2index[token]\n",
    "        vec[index] = 1.0\n",
    "    return vec\n",
    "\n",
    "# create dictiarny of vocab words and word vectors\n",
    "def vocabToVecs(vocab):\n",
    "    word_vecs = {}\n",
    "    for word in vocab:\n",
    "        wv = word2vec(word)\n",
    "        word_vecs[word] = wv\n",
    "    return word_vecs\n",
    "\n",
    "# build vocab\n",
    "def generate_vocab(responses):\n",
    "    tokens = []\n",
    "    for r in responses:\n",
    "        tk = sentence2tokens(r)\n",
    "        tokens = tokens + tk\n",
    "    token_list = list(set(tokens))\n",
    "    return token_list\n",
    "\n",
    "# create a word2index mapping\n",
    "def wordToIndex(vocab_list):\n",
    "    word2index = {x: i-1 for i, x in enumerate(vocab_list,1)}\n",
    "    return word2index\n",
    "\n",
    "# generate training data x = sentence arrays, y = vocab vectors\n",
    "def generateTrainingData(responses,word2index,max_seq_len,word_vecs):\n",
    "    x = []\n",
    "    y = []\n",
    "    for s in responses:\n",
    "        x_ = sentenceToArray(s, max_seq_len,word_vecs)\n",
    "        y_ = sentenceToVocabVec(s,word2index)\n",
    "        x.append(x_)\n",
    "        y.append(y_)\n",
    "    return np.array(x), np.array(y)\n",
    "\n",
    "#import raw responses from file\n",
    "responses = load_raw_responses_from_file(\"training_data/pdf_data.tsv\")\n",
    "#responses = load_raw_responses_from_file(\"mercer_data/all_comments.tsv\")\n",
    "\n",
    "#generate vocab list from raw responses\n",
    "vocab_list = generate_vocab(responses)\n",
    "\n",
    "#load word2vec model\n",
    "brain = loadWord2Vec()\n",
    "\n",
    "#Create vocab only word vec model\n",
    "word_vecs = vocabToVecs(vocab_list)\n",
    "\n",
    "#delete brain to free up memeory\n",
    "del brain\n",
    "\n",
    "#generate word2index mapping\n",
    "word2index = wordToIndex(vocab_list)\n",
    "\n",
    "#generate training set\n",
    "X, Y = generateTrainingData(responses,word2index,max_seq_len,word_vecs)\n",
    "\n",
    "## ^^^^ takes ~1m to run per 100 responses\n",
    "print (X.shape)\n",
    "print (Y.shape)"
   ]
  },
  {
   "cell_type": "code",
   "execution_count": 48,
   "metadata": {
    "collapsed": true
   },
   "outputs": [],
   "source": [
    "def normalize(word):\n",
    "    \"\"\"\n",
    "    Returns a lower cased version of a word and removes\n",
    "    punctuation.\n",
    "    \"\"\"\n",
    "    return word.lower().strip(string.punctuation)\n",
    "\n",
    "def to_vector(word):\n",
    "    \"\"\"\n",
    "    Convert a word to vector if we have a vector representation.\n",
    "    \"\"\"\n",
    "    if word in embedding_dict:\n",
    "        return embedding_dict[word]\n",
    "    else:\n",
    "        return np.zeros(300, dtype=float)\n",
    "    \n",
    "def tokenize(sentence):\n",
    "    '''\n",
    "    Converts string sentence into list of words. Strips punctuation,\n",
    "    removes long words, makes lower case.\n",
    "    '''\n",
    "    tokens = []\n",
    "    for token in tokenizer.tokenize(sentence):\n",
    "        word = normalize(token)\n",
    "        if word not in stopwords and len(word)<MAX_SEQUENCE_LENGTH:\n",
    "            tokens.append(word)\n",
    "    return tokens\n",
    "\n",
    "def sentence_to_vec(sentence):\n",
    "    '''\n",
    "    Converts sentence into a float matrix = list of word vectors.\n",
    "    '''\n",
    "    import numpy as np\n",
    "    z = np.zeros([300,])\n",
    "    sentence_matrix = [to_vector(token) for token in tokenize(sentence)]\n",
    "    padding = MAX_SEQUENCE_LENGTH - len(sentence_matrix)\n",
    "    if padding >= 0:\n",
    "        for i in range(0,padding):\n",
    "            sentence_matrix.append(z)\n",
    "    else:\n",
    "        sentence_matrix = sentence_matrix[:MAX_SEQUENCE_LENGTH]\n",
    "    return np.array(sentence_matrix)\n",
    "\n",
    "def sentences_to_vecs(sentences):\n",
    "    '''\n",
    "    Converts list of sentences into list of sentence embeddings, \n",
    "    each embedding is MAX_SEQUENCE_LENGTH x 300.\n",
    "    '''\n",
    "    training_data = [sentence_to_vec(sentence) for sentence in sentences]\n",
    "    return np.array(training_data)"
   ]
  },
  {
   "cell_type": "code",
   "execution_count": 49,
   "metadata": {
    "collapsed": true
   },
   "outputs": [],
   "source": [
    "embedded_sentences = sentences_to_vecs(descriptions)"
   ]
  },
  {
   "cell_type": "code",
   "execution_count": 50,
   "metadata": {
    "collapsed": false
   },
   "outputs": [
    {
     "name": "stdout",
     "output_type": "stream",
     "text": [
      "<class 'numpy.ndarray'>\n"
     ]
    }
   ],
   "source": [
    "print(type(embedded_sentences))"
   ]
  },
  {
   "cell_type": "code",
   "execution_count": 52,
   "metadata": {
    "collapsed": false
   },
   "outputs": [
    {
     "name": "stdout",
     "output_type": "stream",
     "text": [
      "(111009, 20, 300)\n"
     ]
    }
   ],
   "source": [
    "print(embedded_sentences.shape)"
   ]
  },
  {
   "cell_type": "code",
   "execution_count": 65,
   "metadata": {
    "collapsed": true
   },
   "outputs": [],
   "source": [
    "np.save('embedded.npy', embedded_sentences) "
   ]
  },
  {
   "cell_type": "code",
   "execution_count": null,
   "metadata": {
    "collapsed": true
   },
   "outputs": [],
   "source": [
    "embedded_sentences = np.load('embedded.npy')"
   ]
  },
  {
   "cell_type": "markdown",
   "metadata": {},
   "source": [
    "### Train the Network"
   ]
  },
  {
   "cell_type": "code",
   "execution_count": null,
   "metadata": {
    "collapsed": true
   },
   "outputs": [],
   "source": [
    "def dynamic_weighting_model(embedding_depth, max_seq_len, num_algs):\n",
    "    '''\n",
    "    Returns a model for sentiment analysis algorithm weight learning.\n",
    "    Model inputs: array of sentence vectors (dimensions: sentences x 22 x 300), \n",
    "                  array of sentiment guesses for each algorithm (dimensions: sentences x algorithms x 3)\n",
    "          outputs: array of sentiment answers (dimensions: sentences x 3)\n",
    "    '''\n",
    "    # add input layers\n",
    "    main_input = Input(shape=(max_seq_len,embedding_depth), dtype='float32', name='main_input')\n",
    "    algs_input = Input(shape=(num_algs,3), dtype='float32', name='algs_input')\n",
    "    \n",
    "    lstm = LSTM(300)\n",
    "    lstm_main = lstm(main_input)\n",
    "    \n",
    "    dense_nn = Dense(num_algs, activation='softmax')\n",
    "    dense_nn_main = dense_nn(lstm_main)\n",
    "    \n",
    "    # attention weighting\n",
    "    dot = Dot(1)\n",
    "    dot_main = dot([dense_nn_main,algs_input])\n",
    "        \n",
    "    # main model\n",
    "    main_model = Model(inputs=[main_input,algs_input], outputs=[dot_main])\n",
    "    op = RMSprop(lr=0.00007)\n",
    "    main_model.compile(optimizer=op, loss='binary_crossentropy')\n",
    "    \n",
    "    return main_model"
   ]
  },
  {
   "cell_type": "code",
   "execution_count": 66,
   "metadata": {
    "collapsed": false
   },
   "outputs": [
    {
     "ename": "ModuleNotFoundError",
     "evalue": "No module named 'keras'",
     "output_type": "error",
     "traceback": [
      "\u001b[0;31m---------------------------------------------------------------------------\u001b[0m",
      "\u001b[0;31mModuleNotFoundError\u001b[0m                       Traceback (most recent call last)",
      "\u001b[0;32m<ipython-input-66-6df531d7ee31>\u001b[0m in \u001b[0;36m<module>\u001b[0;34m()\u001b[0m\n\u001b[0;32m----> 1\u001b[0;31m \u001b[1;32mfrom\u001b[0m \u001b[0mkeras\u001b[0m\u001b[1;33m.\u001b[0m\u001b[0mmodels\u001b[0m \u001b[1;32mimport\u001b[0m \u001b[0mSequential\u001b[0m\u001b[1;33m,\u001b[0m \u001b[0mModel\u001b[0m\u001b[1;33m\u001b[0m\u001b[0m\n\u001b[0m\u001b[1;32m      2\u001b[0m \u001b[1;32mfrom\u001b[0m \u001b[0mkeras\u001b[0m\u001b[1;33m.\u001b[0m\u001b[0mlayers\u001b[0m \u001b[1;32mimport\u001b[0m \u001b[0mActivation\u001b[0m\u001b[1;33m,\u001b[0m \u001b[0mDot\u001b[0m\u001b[1;33m,\u001b[0m \u001b[0mEmbedding\u001b[0m\u001b[1;33m,\u001b[0m \u001b[0mConv1D\u001b[0m\u001b[1;33m,\u001b[0m \u001b[0mMaxPooling1D\u001b[0m\u001b[1;33m,\u001b[0m \u001b[0mMerge\u001b[0m\u001b[1;33m,\u001b[0m \u001b[0mHighway\u001b[0m\u001b[1;33m,\u001b[0m \u001b[0mLSTM\u001b[0m\u001b[1;33m,\u001b[0m \u001b[0mDense\u001b[0m\u001b[1;33m,\u001b[0m \u001b[0mDropout\u001b[0m\u001b[1;33m,\u001b[0m \u001b[0mReshape\u001b[0m\u001b[1;33m,\u001b[0m \u001b[0mActivityRegularization\u001b[0m\u001b[1;33m,\u001b[0m \u001b[0mInput\u001b[0m\u001b[1;33m\u001b[0m\u001b[0m\n\u001b[1;32m      3\u001b[0m \u001b[1;32mfrom\u001b[0m \u001b[0mkeras\u001b[0m\u001b[1;33m.\u001b[0m\u001b[0moptimizers\u001b[0m \u001b[1;32mimport\u001b[0m \u001b[0mSGD\u001b[0m\u001b[1;33m,\u001b[0m \u001b[0mRMSprop\u001b[0m\u001b[1;33m\u001b[0m\u001b[0m\n\u001b[1;32m      4\u001b[0m \u001b[1;32mfrom\u001b[0m \u001b[0mkeras\u001b[0m \u001b[1;32mimport\u001b[0m \u001b[0mregularizers\u001b[0m\u001b[1;33m\u001b[0m\u001b[0m\n\u001b[1;32m      5\u001b[0m \u001b[1;32mfrom\u001b[0m \u001b[0mkeras\u001b[0m\u001b[1;33m.\u001b[0m\u001b[0mconstraints\u001b[0m \u001b[1;32mimport\u001b[0m \u001b[0mnon_neg\u001b[0m\u001b[1;33m\u001b[0m\u001b[0m\n",
      "\u001b[0;31mModuleNotFoundError\u001b[0m: No module named 'keras'"
     ]
    }
   ],
   "source": [
    "from keras.models import Sequential, Model\n",
    "from keras.layers import Activation, Dot, Embedding, Conv1D, MaxPooling1D, Merge, Highway, LSTM, Dense, Dropout, Reshape, ActivityRegularization, Input\n",
    "from keras.optimizers import SGD, RMSprop\n",
    "from keras import regularizers\n",
    "from keras.constraints import non_neg\n",
    "from keras.initializers import TruncatedNormal\n",
    "\n",
    "def descriptions_to_price(embedding_depth, max_seq_len):\n",
    "    '''\n",
    "    Returns a model for sentiment analysis algorithm weight learning.\n",
    "    Model inputs: array of sentence vectors (dimensions: sentences x 22 x 300), \n",
    "                  array of sentiment guesses for each algorithm (dimensions: sentences x algorithms x 3)\n",
    "          outputs: array of sentiment answers (dimensions: sentences x 3)\n",
    "    '''\n",
    "    # add input layers\n",
    "    main_input = Input(shape=(max_seq_len,embedding_depth), dtype='float32', name='main_input')\n",
    "#     price_input = Input(shape=(1), dtype='float32', name='price_input')\n",
    "    \n",
    "    lstm = LSTM(300)\n",
    "    lstm_main = lstm(main_input)\n",
    "    \n",
    "    dense_nn = Dense(1, activation='softmax')\n",
    "    dense_nn_main = dense_nn(lstm_main)\n",
    "    \n",
    "    # attention weighting\n",
    "#     dot = Dot(1)\n",
    "#     dot_main = dot([dense_nn_main,algs_input])\n",
    "        \n",
    "    # main model\n",
    "    main_model = Model(inputs=[main_input], outputs=[dense_nn_main])\n",
    "    op = RMSprop(lr=0.00007)\n",
    "    main_model.compile(optimizer=op, loss='binary_crossentropy')\n",
    "    \n",
    "    return main_model"
   ]
  },
  {
   "cell_type": "code",
   "execution_count": 68,
   "metadata": {
    "collapsed": false
   },
   "outputs": [
    {
     "ename": "NameError",
     "evalue": "name 'descriptions_to_price' is not defined",
     "output_type": "error",
     "traceback": [
      "\u001b[0;31m---------------------------------------------------------------------------\u001b[0m",
      "\u001b[0;31mNameError\u001b[0m                                 Traceback (most recent call last)",
      "\u001b[0;32m<ipython-input-68-ee19ef0f2db5>\u001b[0m in \u001b[0;36m<module>\u001b[0;34m()\u001b[0m\n\u001b[1;32m      1\u001b[0m \u001b[1;31m#build/compile model\u001b[0m\u001b[1;33m\u001b[0m\u001b[1;33m\u001b[0m\u001b[0m\n\u001b[0;32m----> 2\u001b[0;31m \u001b[0mmodel\u001b[0m \u001b[1;33m=\u001b[0m \u001b[0mdescriptions_to_price\u001b[0m\u001b[1;33m(\u001b[0m\u001b[0membedding_depth\u001b[0m\u001b[1;33m,\u001b[0m \u001b[0mMAX_SEQUENCE_LENGTH\u001b[0m\u001b[1;33m)\u001b[0m\u001b[1;33m\u001b[0m\u001b[0m\n\u001b[0m\u001b[1;32m      3\u001b[0m \u001b[1;33m\u001b[0m\u001b[0m\n\u001b[1;32m      4\u001b[0m \u001b[1;31m#view model summary\u001b[0m\u001b[1;33m\u001b[0m\u001b[1;33m\u001b[0m\u001b[0m\n\u001b[1;32m      5\u001b[0m \u001b[0mprint\u001b[0m \u001b[1;33m(\u001b[0m\u001b[0mmodel\u001b[0m\u001b[1;33m.\u001b[0m\u001b[0msummary\u001b[0m\u001b[1;33m(\u001b[0m\u001b[1;33m)\u001b[0m\u001b[1;33m)\u001b[0m\u001b[1;33m\u001b[0m\u001b[0m\n",
      "\u001b[0;31mNameError\u001b[0m: name 'descriptions_to_price' is not defined"
     ]
    }
   ],
   "source": [
    "#build/compile model\n",
    "model = descriptions_to_price(embedding_depth, MAX_SEQUENCE_LENGTH)\n",
    "\n",
    "#view model summary\n",
    "print (model.summary())"
   ]
  },
  {
   "cell_type": "code",
   "execution_count": null,
   "metadata": {
    "collapsed": true
   },
   "outputs": [],
   "source": [
    "history = model.fit([embedded_sentences], prices, batch_size=128, epochs=5, verbose=2, validation_split=0.15)"
   ]
  },
  {
   "cell_type": "markdown",
   "metadata": {},
   "source": [
    "### Predicting Price"
   ]
  },
  {
   "cell_type": "code",
   "execution_count": null,
   "metadata": {
    "collapsed": true
   },
   "outputs": [],
   "source": [
    "# use the model to make predictions on unseen data\n",
    "model.predict([\"this wine has beautiful flavors\"])"
   ]
  }
 ],
 "metadata": {
  "kernelspec": {
   "display_name": "Python 3",
   "language": "python",
   "name": "python3"
  },
  "language_info": {
   "codemirror_mode": {
    "name": "ipython",
    "version": 3
   },
   "file_extension": ".py",
   "mimetype": "text/x-python",
   "name": "python",
   "nbconvert_exporter": "python",
   "pygments_lexer": "ipython3",
   "version": "3.6.0"
  }
 },
 "nbformat": 4,
 "nbformat_minor": 2
}
