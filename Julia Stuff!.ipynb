{
 "cells": [
  {
   "cell_type": "code",
   "execution_count": 1,
   "metadata": {},
   "outputs": [
    {
     "name": "stderr",
     "output_type": "stream",
     "text": [
      "WARNING: Method definition ==(Base.Nullable"
     ]
    }
   ],
   "source": [
    "#Pkg.update(\"LowRankModels\")\n",
    "using LowRankModels, PyPlot, DataFrames"
   ]
  },
  {
   "cell_type": "markdown",
   "metadata": {},
   "source": [
    "# Input the Data"
   ]
  },
  {
   "cell_type": "code",
   "execution_count": 2,
   "metadata": {},
   "outputs": [
    {
     "name": "stderr",
     "output_type": "stream",
     "text": [
      "{S}"
     ]
    },
    {
     "data": {
      "text/plain": [
       "111243×855 Array{Float64,2}:\n",
       " 96.0  0.0  1.0  0.0  0.0  0.0  0.0  …  0.0   3.0  0.135  0.865  0.0    1.0\n",
       " 96.0  1.0  0.0  0.0  0.0  0.0  0.0     0.0   0.0  0.142  0.858  0.0    1.0\n",
       " 96.0  1.0  0.0  0.0  0.0  0.0  0.0     0.0   2.0  0.03   0.97   0.0    1.0\n",
       " 95.0  0.0  0.0  1.0  0.0  0.0  0.0     0.0   4.0  0.11   0.89   0.0    1.0\n",
       " 95.0  0.0  1.0  0.0  0.0  0.0  0.0     0.0   1.0  0.076  0.924  0.0    1.0\n",
       " 95.0  0.0  1.0  0.0  0.0  0.0  0.0  …  0.0   5.0  0.177  0.823  0.0    1.0\n",
       " 95.0  0.0  1.0  0.0  0.0  0.0  0.0     0.0   0.0  0.07   0.93   0.0    1.0\n",
       " 95.0  1.0  0.0  0.0  0.0  0.0  0.0     0.0   0.0  0.074  0.926  0.0    1.0\n",
       " 95.0  1.0  0.0  0.0  0.0  0.0  0.0     0.0   0.0  0.103  0.858  0.04   1.0\n",
       " 95.0  0.0  0.0  0.0  1.0  0.0  0.0     0.0   4.0  0.266  0.734  0.0    1.0\n",
       " 95.0  1.0  0.0  0.0  0.0  0.0  0.0  …  0.0   0.0  0.089  0.911  0.0    1.0\n",
       " 95.0  1.0  0.0  0.0  0.0  0.0  0.0     0.0   4.0  0.078  0.922  0.0    1.0\n",
       " 95.0  0.0  0.0  1.0  0.0  0.0  0.0     0.0   2.0  0.087  0.887  0.027  1.0\n",
       "  ⋮                        ⋮         ⋱        ⋮                            \n",
       " 92.0  0.0  0.0  1.0  0.0  0.0  0.0     0.0   4.0  0.373  0.606  0.02   1.0\n",
       " 92.0  0.0  0.0  1.0  0.0  0.0  0.0     0.0   2.0  0.228  0.727  0.045  1.0\n",
       " 91.0  0.0  0.0  1.0  0.0  0.0  0.0     0.0   7.0  0.225  0.732  0.043  1.0\n",
       " 91.0  0.0  0.0  0.0  1.0  0.0  0.0     0.0   5.0  0.321  0.679  0.0    1.0\n",
       " 91.0  0.0  0.0  1.0  0.0  0.0  0.0  …  0.0   5.0  0.199  0.801  0.0    1.0\n",
       " 91.0  0.0  0.0  1.0  0.0  0.0  0.0     0.0   6.0  0.162  0.704  0.134  1.0\n",
       " 91.0  0.0  0.0  1.0  0.0  0.0  0.0     0.0  11.0  0.263  0.737  0.0    1.0\n",
       " 91.0  0.0  0.0  0.0  1.0  0.0  0.0     0.0   2.0  0.041  0.834  0.125  1.0\n",
       " 91.0  0.0  0.0  1.0  0.0  0.0  0.0     0.0   3.0  0.124  0.876  0.0    1.0\n",
       " 91.0  0.0  0.0  0.0  1.0  0.0  0.0  …  0.0   6.0  0.149  0.851  0.0    1.0\n",
       " 90.0  0.0  0.0  1.0  0.0  0.0  0.0     0.0   5.0  0.192  0.808  0.0    1.0\n",
       " 90.0  0.0  0.0  0.0  1.0  0.0  0.0     0.0   4.0  0.18   0.82   0.0    1.0"
      ]
     },
     "execution_count": 2,
     "metadata": {},
     "output_type": "execute_result"
    },
    {
     "name": "stderr",
     "output_type": "stream",
     "text": [
      ", Base"
     ]
    }
   ],
   "source": [
    "y = readtable(\"C:/Users/Eason/Downloads/winedatayvector.csv\")[1]\n",
    "X = convert(Array,readtable(\"C:/Users/Eason/Downloads/winedataX.csv\")[1:end])"
   ]
  },
  {
   "cell_type": "markdown",
   "metadata": {},
   "source": [
    "# Run some regressions"
   ]
  },
  {
   "cell_type": "code",
   "execution_count": 3,
   "metadata": {},
   "outputs": [
    {
     "name": "stderr",
     "output_type": "stream",
     "text": [
      ".Nullable{T"
     ]
    },
    {
     "data": {
      "text/plain": [
       "prox_k_sparse_gradient_method (generic function with 2 methods)"
      ]
     },
     "execution_count": 3,
     "metadata": {},
     "output_type": "execute_result"
    }
   ],
   "source": [
    "function prox_k_sparse_gradient_method(X, y ,w , alpha, iterations=100)\n",
    "    \n",
    "    obj_store = zeros(0)\n",
    "    for i = 1:(iterations)\n",
    "        z = w - alpha*2*(X'*X*w-X'y)\n",
    "        w = prox_k_sparse(z,k)\n",
    "        append!(obj_store,(norm(X*w-y)).^2)\n",
    "    end\n",
    "    \n",
    "    return w,obj_store\n",
    "end"
   ]
  },
  {
   "cell_type": "code",
   "execution_count": 4,
   "metadata": {},
   "outputs": [
    {
     "name": "stderr",
     "output_type": "stream",
     "text": [
      "}) in module Base"
     ]
    },
    {
     "data": {
      "text/plain": [
       "prox_k_sparse (generic function with 1 method)"
      ]
     },
     "execution_count": 4,
     "metadata": {},
     "output_type": "execute_result"
    },
    {
     "name": "stderr",
     "output_type": "stream",
     "text": [
      " at nullable.jl:238"
     ]
    }
   ],
   "source": [
    "function prox_k_sparse(z,k)\n",
    "    \n",
    "    set_to_zero_order = sortperm(abs.(z))\n",
    "    d = length(z)\n",
    "    w = z\n",
    "    for i = 1:d-k\n",
    "        w[set_to_zero_order[i]] = 0\n",
    "    end\n",
    "    \n",
    "    return w\n",
    "end"
   ]
  },
  {
   "cell_type": "code",
   "execution_count": 5,
   "metadata": {},
   "outputs": [
    {
     "name": "stderr",
     "output_type": "stream",
     "text": [
      " overwritten in module NullableArrays at C:\\Users\\Eason\\.julia\\v0.6\\NullableArrays\\src\\operators.jl:99.\n"
     ]
    },
    {
     "data": {
      "text/plain": [
       "1.451575015561125e-10"
      ]
     },
     "execution_count": 5,
     "metadata": {},
     "output_type": "execute_result"
    }
   ],
   "source": [
    "Lipshitz = 2*maximum(svdvals(X)).^2\n",
    "\n",
    "alpha = (1/Lipshitz)/4"
   ]
  },
  {
   "cell_type": "code",
   "execution_count": 6,
   "metadata": {},
   "outputs": [
    {
     "name": "stdout",
     "output_type": "stream",
     "text": [
      "The minimum objective value is "
     ]
    },
    {
     "data": {
      "image/png": "[encoded data removed]",
      "text/plain": [
       "PyPlot.Figure(PyObject <matplotlib.figure.Figure object at 0x0000000047A67BE0>)"
      ]
     },
     "metadata": {},
     "output_type": "display_data"
    },
    {
     "name": "stdout",
     "output_type": "stream",
     "text": [
      "2.8767614266288173e8"
     ]
    }
   ],
   "source": [
    "w_rand = randn(size(X)[2])\n",
    "k = 50\n",
    "w_ksparse, obj_output = prox_k_sparse_gradient_method(X, y, w_rand, alpha, 10)\n",
    "semilogy(obj_output)\n",
    "print(\"The minimum objective value is \",minimum(obj_output))"
   ]
  },
  {
   "cell_type": "code",
   "execution_count": 7,
   "metadata": {},
   "outputs": [
    {
     "data": {
      "text/plain": [
       "stochastic_prox_grad_method (generic function with 2 methods)"
      ]
     },
     "execution_count": 7,
     "metadata": {},
     "output_type": "execute_result"
    }
   ],
   "source": [
    "function stochastic_prox_grad_method(X, y ,w , alpha, iterations=100)\n",
    "    alphai=alpha/8\n",
    "    obj_store = zeros(0)\n",
    "    for j = 1:(iterations)\n",
    "        i = Integer(ceil(rand()*length(y)))\n",
    "        yi = y[i]\n",
    "        xi = X[i,:]\n",
    "        z = w + alphai*(2*length(y)*((yi-w'*xi)*xi))\n",
    "        w = prox_k_sparse(z,k)\n",
    "        append!(obj_store,(norm(X*w-y)).^2)\n",
    "    end\n",
    "    \n",
    "    return w,obj_store\n",
    "end"
   ]
  },
  {
   "cell_type": "code",
   "execution_count": 8,
   "metadata": {},
   "outputs": [
    {
     "name": "stdout",
     "output_type": "stream",
     "text": [
      "2"
     ]
    },
    {
     "data": {
      "image/png": "[encoded data removed]",
      "text/plain": [
       "PyPlot.Figure(PyObject <matplotlib.figure.Figure object at 0x0000000047E85160>)"
      ]
     },
     "metadata": {},
     "output_type": "display_data"
    },
    {
     "name": "stdout",
     "output_type": "stream",
     "text": [
      ".879625005769162e8"
     ]
    }
   ],
   "source": [
    "w_rand = randn(size(X)[2])\n",
    "w_stoch_ksparse,obj_output = stochastic_prox_grad_method(X, y, w_rand, alpha, 10)\n",
    "\n",
    "semilogy(obj_output)\n",
    "\n",
    "print(minimum(obj_output))"
   ]
  },
  {
   "cell_type": "code",
   "execution_count": 9,
   "metadata": {},
   "outputs": [
    {
     "data": {
      "text/plain": [
       "proxgrad (generic function with 1 method)"
      ]
     },
     "execution_count": 9,
     "metadata": {},
     "output_type": "execute_result"
    }
   ],
   "source": [
    "# proximal gradient method\n",
    "function proxgrad(loss::Loss, reg::Regularizer, X, y;\n",
    "                  maxiters::Int = 10, stepsize::Number = 1., \n",
    "                  ch::ConvergenceHistory = ConvergenceHistory(\"proxgrad\"))\n",
    "    w = zeros(size(X,2))\n",
    "    for t=1:maxiters\n",
    "        t0 = time()\n",
    "        # gradient step\n",
    "        g = grad(loss, X, w, y)\n",
    "        w = w - stepsize*g\n",
    "        # prox step\n",
    "        w = prox(reg, w, stepsize)\n",
    "        # record objective value\n",
    "        update_ch!(ch, time() - t0, obj = evaluate(loss, X, w, y) + evaluate(reg, w))\n",
    "    end\n",
    "    return w\n",
    "end"
   ]
  },
  {
   "cell_type": "code",
   "execution_count": null,
   "metadata": {
    "collapsed": true
   },
   "outputs": [],
   "source": [
    "n = length(y)\n",
    "ch = ConvergenceHistory(\"proxgrad\")\n",
    "\n",
    "w_huber = proxgrad(1/n*HuberLoss(), NonNegConstraint(), X, y, stepsize=alpha, maxiters=100, ch=ch)\n",
    "\n",
    "plot(ch.objective)\n",
    "xlabel(\"iteration\")\n",
    "ylabel(\"objective\")"
   ]
  },
  {
   "cell_type": "code",
   "execution_count": null,
   "metadata": {
    "collapsed": true
   },
   "outputs": [],
   "source": [
    "n = length(y)\n",
    "ch = ConvergenceHistory(\"proxgrad\")\n",
    "\n",
    "w_lasso = proxgrad(1/n*QuadLoss(), OneReg(), X, y, stepsize=alpha, maxiters=100, ch=ch)\n",
    "\n",
    "plot(ch.objective)\n",
    "xlabel(\"iteration\")\n",
    "ylabel(\"objective\")"
   ]
  },
  {
   "cell_type": "code",
   "execution_count": null,
   "metadata": {
    "collapsed": true
   },
   "outputs": [],
   "source": [
    "n = length(y)\n",
    "ch = ConvergenceHistory(\"proxgrad\")\n",
    "\n",
    "w_nnls = proxgrad(1/n*QuadLoss(), NonNegConstraint(), X, y, stepsize=alpha, maxiters=100, ch=ch)\n",
    "\n",
    "plot(ch.objective)\n",
    "xlabel(\"iteration\")\n",
    "ylabel(\"objective\")"
   ]
  },
  {
   "cell_type": "code",
   "execution_count": null,
   "metadata": {
    "collapsed": true
   },
   "outputs": [],
   "source": [
    "n = length(y)\n",
    "ch = ConvergenceHistory(\"proxgrad\")\n",
    "\n",
    "w_nnlasso = proxgrad(1/n*QuadLoss(), NonNegOneReg(), X, y, stepsize=alpha, maxiters=100, ch=ch)\n",
    "\n",
    "plot(ch.objective)\n",
    "xlabel(\"iteration\")\n",
    "ylabel(\"objective\")"
   ]
  },
  {
   "cell_type": "code",
   "execution_count": null,
   "metadata": {
    "collapsed": true
   },
   "outputs": [],
   "source": [
    "# which fits data best?\n",
    "scatter(y,X*w_huber,label=\"ridge\",alpha=0.002, color=\"blue\")\n",
    "plot(y,y,label=\"true model\")\n",
    "xlim([0,150])\n",
    "xlabel(\"true value\")\n",
    "ylabel(\"predicted value\")"
   ]
  },
  {
   "cell_type": "code",
   "execution_count": null,
   "metadata": {
    "collapsed": true
   },
   "outputs": [],
   "source": [
    "# which fits data best?\n",
    "scatter(y,X*w_lasso,label=\"ridge\",alpha=0.002, color=\"green\")\n",
    "plot(y,y,label=\"true model\")\n",
    "xlim([0,150])\n",
    "xlabel(\"true value\")\n",
    "ylabel(\"predicted value\")"
   ]
  },
  {
   "cell_type": "code",
   "execution_count": null,
   "metadata": {
    "collapsed": true
   },
   "outputs": [],
   "source": [
    "# which fits data best?\n",
    "scatter(y,X*w_nnls,label=\"ridge\",alpha=0.002, color=\"red\")\n",
    "plot(y,y,label=\"true model\")\n",
    "xlim([0,150])\n",
    "xlabel(\"true value\")\n",
    "ylabel(\"predicted value\")"
   ]
  },
  {
   "cell_type": "code",
   "execution_count": null,
   "metadata": {
    "collapsed": true
   },
   "outputs": [],
   "source": [
    "# which fits data best?\n",
    "scatter(y,X*w_nnlasso,label=\"ridge\",alpha=0.002, color=\"purple\")\n",
    "plot(y,y,label=\"true model\")\n",
    "xlim([0,150])\n",
    "xlabel(\"true value\")\n",
    "ylabel(\"predicted value\")"
   ]
  }
 ],
 "metadata": {
  "kernelspec": {
   "display_name": "Julia 0.6.0",
   "language": "julia",
   "name": "julia-0.6"
  },
  "language_info": {
   "file_extension": ".jl",
   "mimetype": "application/julia",
   "name": "julia",
   "version": "0.6.0"
  }
 },
 "nbformat": 4,
 "nbformat_minor": 2
}
