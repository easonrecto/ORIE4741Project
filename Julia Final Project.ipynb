{
 "cells": [
  {
   "cell_type": "code",
   "execution_count": 1,
   "metadata": {},
   "outputs": [
    {
     "name": "stderr",
     "output_type": "stream",
     "text": [
      "\u001b[1m\u001b[36mINFO: \u001b[39m\u001b[22m\u001b[36mRecompiling stale cache file /Users/alexanderdowney/.julia/lib/v0.6/LowRankModels.ji for module LowRankModels.\n",
      "\u001b[39mWARNING: Method definition ==(Base.Nullable{S}, Base.Nullable{T}) in module Base at nullable.jl:238 overwritten in module NullableArrays at /Users/alexanderdowney/.julia/v0.6/NullableArrays/src/operators.jl:99.\n",
      "WARNING: Method definition ==(Base.Nullable{S}, Base.Nullable{T}) in module Base at nullable.jl:238 overwritten in module NullableArrays at /Users/alexanderdowney/.julia/v0.6/NullableArrays/src/operators.jl:99.\n",
      "WARNING: Method definition ==(Base.Nullable{S}, Base.Nullable{T}) in module Base at nullable.jl:238 overwritten in module NullableArrays at /Users/alexanderdowney/.julia/v0.6/NullableArrays/src/operators.jl:99.\n",
      "\u001b[1m\u001b[36mINFO: \u001b[39m\u001b[22m\u001b[36mRecompiling stale cache file /Users/alexanderdowney/.julia/lib/v0.6/LaTeXStrings.ji for module LaTeXStrings.\n",
      "\u001b[39m\u001b[1m\u001b[36mINFO: \u001b[39m\u001b[22m\u001b[36mRecompiling stale cache file /Users/alexanderdowney/.julia/lib/v0.6/PyPlot.ji for module PyPlot.\n",
      "\u001b[39m"
     ]
    }
   ],
   "source": [
    "#Pkg.update(\"LowRankModels\")\n",
    "using LowRankModels, PyPlot, DataFrames"
   ]
  },
  {
   "cell_type": "markdown",
   "metadata": {},
   "source": [
    "# Input the Data"
   ]
  },
  {
   "cell_type": "code",
   "execution_count": 6,
   "metadata": {},
   "outputs": [
    {
     "data": {
      "text/plain": [
       "129963×119 Array{Float64,2}:\n",
       " 0.0  1.0  0.0  0.0  0.0  0.0  0.0  …  0.0  1.0   3.0  0.135  0.865  0.0  \n",
       " 1.0  0.0  0.0  0.0  0.0  0.0  0.0     0.0  1.0   0.0  0.142  0.858  0.0  \n",
       " 1.0  0.0  0.0  0.0  0.0  0.0  0.0     0.0  1.0   2.0  0.03   0.97   0.0  \n",
       " 0.0  1.0  0.0  0.0  0.0  0.0  0.0     0.0  1.0   1.0  0.076  0.924  0.0  \n",
       " 0.0  1.0  0.0  0.0  0.0  0.0  0.0     0.0  1.0   5.0  0.177  0.823  0.0  \n",
       " 0.0  1.0  0.0  0.0  0.0  0.0  0.0  …  0.0  1.0   0.0  0.07   0.93   0.0  \n",
       " 1.0  0.0  0.0  0.0  0.0  0.0  0.0     0.0  1.0   0.0  0.074  0.926  0.0  \n",
       " 1.0  0.0  0.0  0.0  0.0  0.0  0.0     0.0  1.0   0.0  0.103  0.858  0.04 \n",
       " 0.0  0.0  1.0  0.0  0.0  0.0  0.0     0.0  1.0   4.0  0.266  0.734  0.0  \n",
       " 1.0  0.0  0.0  0.0  0.0  0.0  0.0     0.0  1.0   0.0  0.089  0.911  0.0  \n",
       " 1.0  0.0  0.0  0.0  0.0  0.0  0.0  …  0.0  1.0   4.0  0.078  0.922  0.0  \n",
       " 0.0  0.0  0.0  1.0  0.0  0.0  0.0     0.0  1.0   2.0  0.087  0.887  0.027\n",
       " 1.0  0.0  0.0  0.0  0.0  0.0  0.0     0.0  1.0   5.0  0.177  0.823  0.0  \n",
       " ⋮                        ⋮         ⋱             ⋮                       \n",
       " 0.0  0.0  0.0  1.0  0.0  0.0  0.0     0.0  1.0   4.0  0.373  0.606  0.02 \n",
       " 0.0  0.0  0.0  1.0  0.0  0.0  0.0     0.0  1.0   2.0  0.228  0.727  0.045\n",
       " 0.0  0.0  0.0  1.0  0.0  0.0  0.0     0.0  1.0   7.0  0.225  0.732  0.043\n",
       " 0.0  0.0  1.0  0.0  0.0  0.0  0.0     0.0  1.0   5.0  0.321  0.679  0.0  \n",
       " 0.0  0.0  0.0  1.0  0.0  0.0  0.0  …  0.0  1.0   5.0  0.199  0.801  0.0  \n",
       " 0.0  0.0  0.0  1.0  0.0  0.0  0.0     0.0  1.0   6.0  0.162  0.704  0.134\n",
       " 0.0  0.0  0.0  1.0  0.0  0.0  0.0     0.0  1.0  11.0  0.263  0.737  0.0  \n",
       " 0.0  0.0  1.0  0.0  0.0  0.0  0.0     0.0  1.0   2.0  0.041  0.834  0.125\n",
       " 0.0  0.0  0.0  1.0  0.0  0.0  0.0     0.0  1.0   3.0  0.124  0.876  0.0  \n",
       " 0.0  0.0  1.0  0.0  0.0  0.0  0.0  …  0.0  1.0   6.0  0.149  0.851  0.0  \n",
       " 0.0  0.0  0.0  1.0  0.0  0.0  0.0     0.0  1.0   5.0  0.192  0.808  0.0  \n",
       " 0.0  0.0  1.0  0.0  0.0  0.0  0.0     0.0  1.0   4.0  0.18   0.82   0.0  "
      ]
     },
     "execution_count": 6,
     "metadata": {},
     "output_type": "execute_result"
    }
   ],
   "source": [
    "y = readtable(\"/Users/alexanderdowney/Desktop/winedata.csv\")[1]\n",
    "X = convert(Array,readtable(\"/Users/alexanderdowney/Desktop/winedata.csv\")[2:120])"
   ]
  },
  {
   "cell_type": "markdown",
   "metadata": {},
   "source": [
    "# Run some regressions"
   ]
  },
  {
   "cell_type": "code",
   "execution_count": 7,
   "metadata": {},
   "outputs": [
    {
     "data": {
      "text/plain": [
       "prox_k_sparse_gradient_method (generic function with 2 methods)"
      ]
     },
     "execution_count": 7,
     "metadata": {},
     "output_type": "execute_result"
    }
   ],
   "source": [
    "function prox_k_sparse_gradient_method(X, y ,w , alpha, iterations=100)\n",
    "    \n",
    "    obj_store = zeros(0)\n",
    "    for i = 1:(iterations)\n",
    "        z = w - alpha*2*(X'*X*w-X'y)\n",
    "        w = prox_k_sparse(z,k)\n",
    "        append!(obj_store,(norm(X*w-y)).^2)\n",
    "    end\n",
    "    \n",
    "    return w,obj_store\n",
    "end"
   ]
  },
  {
   "cell_type": "code",
   "execution_count": 12,
   "metadata": {},
   "outputs": [
    {
     "data": {
      "text/plain": [
       "prox_k_sparse (generic function with 1 method)"
      ]
     },
     "execution_count": 12,
     "metadata": {},
     "output_type": "execute_result"
    }
   ],
   "source": [
    "function prox_k_sparse(z,k)\n",
    "    \n",
    "    set_to_zero_order = sortperm(abs.(z))\n",
    "    d = length(z)\n",
    "    w = z\n",
    "    for i = 1:d-k\n",
    "        w[set_to_zero_order[i]] = 0\n",
    "    end\n",
    "    \n",
    "    return w\n",
    "end"
   ]
  },
  {
   "cell_type": "code",
   "execution_count": 8,
   "metadata": {},
   "outputs": [
    {
     "data": {
      "text/plain": [
       "6.66095457866377e-8"
      ]
     },
     "execution_count": 8,
     "metadata": {},
     "output_type": "execute_result"
    }
   ],
   "source": [
    "Lipshitz = 2*maximum(svdvals(X)).^2\n",
    "\n",
    "alpha = (1/Lipshitz)/4"
   ]
  },
  {
   "cell_type": "code",
   "execution_count": 10,
   "metadata": {},
   "outputs": [
    {
     "data": {
      "text/plain": [
       "119"
      ]
     },
     "execution_count": 10,
     "metadata": {},
     "output_type": "execute_result"
    }
   ],
   "source": [
    "size(X)[2]"
   ]
  },
  {
   "cell_type": "code",
   "execution_count": 15,
   "metadata": {},
   "outputs": [
    {
     "data": {
      "image/png": "[encoded data removed]",
      "text/plain": [
       "PyPlot.Figure(PyObject <matplotlib.figure.Figure object at 0x12dfc23d0>)"
      ]
     },
     "metadata": {},
     "output_type": "display_data"
    },
    {
     "name": "stdout",
     "output_type": "stream",
     "text": [
      "The minimum objective value is 2.0708090154028027e6"
     ]
    }
   ],
   "source": [
    "w_rand = randn(size(X)[2])\n",
    "k = 50\n",
    "w, obj_output = prox_k_sparse_gradient_method(X, y, w_rand, alpha, 1000)\n",
    "semilogy(obj_output)\n",
    "print(\"The minimum objective value is \",minimum(obj_output))"
   ]
  },
  {
   "cell_type": "code",
   "execution_count": 16,
   "metadata": {},
   "outputs": [
    {
     "data": {
      "text/plain": [
       "stochastic_prox_grad_method (generic function with 2 methods)"
      ]
     },
     "execution_count": 16,
     "metadata": {},
     "output_type": "execute_result"
    }
   ],
   "source": [
    "function stochastic_prox_grad_method(X, y ,w , alpha, iterations=100)\n",
    "    alphai=alpha/8\n",
    "    obj_store = zeros(0)\n",
    "    for j = 1:(iterations)\n",
    "        i = Integer(ceil(rand()*length(y)))\n",
    "        yi = y[i]\n",
    "        xi = X[i,:]\n",
    "        z = w + alphai*(2*length(y)*((yi-w'*xi)*xi))\n",
    "        w = prox_k_sparse(z,k)\n",
    "        append!(obj_store,(norm(X*w-y)).^2)\n",
    "    end\n",
    "    \n",
    "    return w,obj_store\n",
    "end"
   ]
  },
  {
   "cell_type": "code",
   "execution_count": 19,
   "metadata": {},
   "outputs": [
    {
     "data": {
      "image/png": "[encoded data removed]",
      "text/plain": [
       "PyPlot.Figure(PyObject <matplotlib.figure.Figure object at 0x12ff6bd10>)"
      ]
     },
     "metadata": {},
     "output_type": "display_data"
    },
    {
     "name": "stdout",
     "output_type": "stream",
     "text": [
      "2.262677183278591e6"
     ]
    }
   ],
   "source": [
    "w_rand = randn(size(X)[2])\n",
    "w,obj_output = stochastic_prox_grad_method(X, y, w_rand, alpha, 10000)\n",
    "\n",
    "semilogy(obj_output)\n",
    "\n",
    "print(minimum(obj_output))"
   ]
  },
  {
   "cell_type": "code",
   "execution_count": null,
   "metadata": {
    "collapsed": true
   },
   "outputs": [],
   "source": []
  }
 ],
 "metadata": {
  "kernelspec": {
   "display_name": "Julia 0.6.0",
   "language": "julia",
   "name": "julia-0.6"
  },
  "language_info": {
   "file_extension": ".jl",
   "mimetype": "application/julia",
   "name": "julia",
   "version": "0.6.0"
  }
 },
 "nbformat": 4,
 "nbformat_minor": 2
}
